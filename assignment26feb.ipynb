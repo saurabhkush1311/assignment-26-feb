{
 "cells": [
  {
   "cell_type": "code",
   "execution_count": 4,
   "id": "8c270852-418e-498d-895d-619d413e4d00",
   "metadata": {},
   "outputs": [],
   "source": [
    "import numpy as np\n",
    "list_ = ['1','2','3','4','5']\n",
    "array_list = np.array(object = list_)"
   ]
  },
  {
   "cell_type": "code",
   "execution_count": 7,
   "id": "c6e1a3e5-8650-424f-971a-0fe903101b12",
   "metadata": {},
   "outputs": [
    {
     "name": "stdout",
     "output_type": "stream",
     "text": [
      "<class 'list'>\n",
      "<class 'numpy.ndarray'>\n"
     ]
    }
   ],
   "source": [
    "#Question1:\n",
    "#Amswer:\n",
    "#list_: It is a Python list containing string elements.\n",
    "#array_list: It is a NumPy array that was created using the np.array() function.\n",
    "print(type(list_))\n",
    "print(type(array_list))"
   ]
  },
  {
   "cell_type": "code",
   "execution_count": 15,
   "id": "12442da4-04e9-4f09-bdc3-0408573db2a5",
   "metadata": {},
   "outputs": [
    {
     "name": "stdout",
     "output_type": "stream",
     "text": [
      "Data types of each element in list_\n",
      "1: <class 'str'>\n",
      "Data types of each element in array_list\n",
      "2: <class 'str'>\n",
      "Data types of each element in array_list\n",
      "3: <class 'str'>\n",
      "Data types of each element in array_list\n",
      "4: <class 'str'>\n",
      "Data types of each element in array_list\n",
      "5: <class 'str'>\n",
      "Data types of each element in array_list\n",
      "1: <class 'numpy.str_'>\n",
      "2: <class 'numpy.str_'>\n",
      "3: <class 'numpy.str_'>\n",
      "4: <class 'numpy.str_'>\n",
      "5: <class 'numpy.str_'>\n"
     ]
    }
   ],
   "source": [
    "#Question2:\n",
    "#Answer:\n",
    "print(\"Data types of each element in list_\")\n",
    "for i in list_:\n",
    "    print(f\"{i}: {type(i)}\")\n",
    "    print(\"Data types of each element in array_list\")\n",
    "for j in array_list:\n",
    "    print(f\"{j}: {type(j)}\")"
   ]
  },
  {
   "cell_type": "code",
   "execution_count": 16,
   "id": "7af0d297-7c8e-46f9-9ed7-ed8d1164b006",
   "metadata": {},
   "outputs": [],
   "source": [
    "#Question3:\n",
    "#Answer:\n",
    "array_list = np.array(object = list_, dtype = int)"
   ]
  },
  {
   "cell_type": "code",
   "execution_count": 19,
   "id": "6ddaebed-0c81-4031-91ab-ff70a23d791e",
   "metadata": {},
   "outputs": [
    {
     "data": {
      "text/plain": [
       "dtype('int64')"
      ]
     },
     "execution_count": 19,
     "metadata": {},
     "output_type": "execute_result"
    }
   ],
   "source": [
    "array_list.dtype"
   ]
  },
  {
   "cell_type": "code",
   "execution_count": 22,
   "id": "e23bce56-a2fc-4cbf-86a8-45ec9a101a03",
   "metadata": {},
   "outputs": [
    {
     "data": {
      "text/plain": [
       "list"
      ]
     },
     "execution_count": 22,
     "metadata": {},
     "output_type": "execute_result"
    }
   ],
   "source": [
    "type(list_)"
   ]
  },
  {
   "cell_type": "code",
   "execution_count": 23,
   "id": "c5cc3587-0106-41a7-9efb-55e6367bb844",
   "metadata": {},
   "outputs": [
    {
     "name": "stdout",
     "output_type": "stream",
     "text": [
      "Data types of each element in list_\n",
      "1: <class 'str'>\n",
      "Data types of each element in array_list\n",
      "2: <class 'str'>\n",
      "Data types of each element in array_list\n",
      "3: <class 'str'>\n",
      "Data types of each element in array_list\n",
      "4: <class 'str'>\n",
      "Data types of each element in array_list\n",
      "5: <class 'str'>\n",
      "Data types of each element in array_list\n",
      "1: <class 'numpy.int64'>\n",
      "2: <class 'numpy.int64'>\n",
      "3: <class 'numpy.int64'>\n",
      "4: <class 'numpy.int64'>\n",
      "5: <class 'numpy.int64'>\n"
     ]
    }
   ],
   "source": [
    "print(\"Data types of each element in list_\")\n",
    "for i in list_:\n",
    "    print(f\"{i}: {type(i)}\")\n",
    "    print(\"Data types of each element in array_list\")\n",
    "for j in array_list:\n",
    "    print(f\"{j}: {type(j)}\")"
   ]
  },
  {
   "cell_type": "code",
   "execution_count": 24,
   "id": "b78e6e20-479b-471a-8942-369fb470546a",
   "metadata": {},
   "outputs": [],
   "source": [
    "import numpy as np\n",
    "num_list = [ [ 1 , 2 , 3 ] , [ 4 , 5 , 6 ] ]\n",
    "num_array = np.array(object = num_list)"
   ]
  },
  {
   "cell_type": "code",
   "execution_count": 25,
   "id": "c76d1c37-24ff-4ace-8371-99ad30f80921",
   "metadata": {},
   "outputs": [
    {
     "data": {
      "text/plain": [
       "array([[1, 2, 3],\n",
       "       [4, 5, 6]])"
      ]
     },
     "execution_count": 25,
     "metadata": {},
     "output_type": "execute_result"
    }
   ],
   "source": [
    "#Question4:\n",
    "#Answer:\n",
    "num_array"
   ]
  },
  {
   "cell_type": "code",
   "execution_count": 26,
   "id": "371767f4-b973-4055-8e23-52c639895798",
   "metadata": {},
   "outputs": [
    {
     "data": {
      "text/plain": [
       "(2, 3)"
      ]
     },
     "execution_count": 26,
     "metadata": {},
     "output_type": "execute_result"
    }
   ],
   "source": [
    "np.shape(num_array)"
   ]
  },
  {
   "cell_type": "code",
   "execution_count": 27,
   "id": "be0d897b-00cf-476b-9791-641a2dfd0606",
   "metadata": {},
   "outputs": [
    {
     "data": {
      "text/plain": [
       "6"
      ]
     },
     "execution_count": 27,
     "metadata": {},
     "output_type": "execute_result"
    }
   ],
   "source": [
    "np.size(num_array)"
   ]
  },
  {
   "cell_type": "code",
   "execution_count": 54,
   "id": "b6c404a9-4197-4b0f-b216-c17078fde98c",
   "metadata": {},
   "outputs": [],
   "source": [
    "#Question5:\n",
    "#Answer:\n",
    "mat = np.array([[0,0,0],[0,0,0],[0,0,0]])"
   ]
  },
  {
   "cell_type": "code",
   "execution_count": 55,
   "id": "c9916405-cc77-4163-bfdb-91bf499f4333",
   "metadata": {},
   "outputs": [
    {
     "data": {
      "text/plain": [
       "(3, 3)"
      ]
     },
     "execution_count": 55,
     "metadata": {},
     "output_type": "execute_result"
    }
   ],
   "source": [
    "np.shape(mat)"
   ]
  },
  {
   "cell_type": "code",
   "execution_count": 56,
   "id": "87de3c1e-f2f4-4239-b385-bd4278b4af1a",
   "metadata": {},
   "outputs": [
    {
     "data": {
      "text/plain": [
       "9"
      ]
     },
     "execution_count": 56,
     "metadata": {},
     "output_type": "execute_result"
    }
   ],
   "source": [
    "np.size(mat)"
   ]
  },
  {
   "cell_type": "code",
   "execution_count": 57,
   "id": "70a896d3-e340-44be-97a1-c90205a8a3ad",
   "metadata": {},
   "outputs": [
    {
     "data": {
      "text/plain": [
       "array([[0, 0, 0],\n",
       "       [0, 0, 0],\n",
       "       [0, 0, 0]])"
      ]
     },
     "execution_count": 57,
     "metadata": {},
     "output_type": "execute_result"
    }
   ],
   "source": [
    "mat"
   ]
  },
  {
   "cell_type": "code",
   "execution_count": 58,
   "id": "5098cc13-7077-4702-b369-50033a691850",
   "metadata": {},
   "outputs": [],
   "source": [
    "#method2"
   ]
  },
  {
   "cell_type": "code",
   "execution_count": 60,
   "id": "1d4143ef-8317-4798-a07f-1f477f55f7dd",
   "metadata": {},
   "outputs": [],
   "source": [
    "mat1 = np.zeros([3,3])"
   ]
  },
  {
   "cell_type": "code",
   "execution_count": 61,
   "id": "f30224ea-c725-47e2-94f5-49faca80a079",
   "metadata": {},
   "outputs": [
    {
     "data": {
      "text/plain": [
       "array([[0, 0, 0],\n",
       "       [0, 0, 0],\n",
       "       [0, 0, 0]])"
      ]
     },
     "execution_count": 61,
     "metadata": {},
     "output_type": "execute_result"
    }
   ],
   "source": [
    "mat"
   ]
  },
  {
   "cell_type": "code",
   "execution_count": 62,
   "id": "af778c48-912e-42fa-a759-077ec6755797",
   "metadata": {},
   "outputs": [
    {
     "data": {
      "text/plain": [
       "(3, 3)"
      ]
     },
     "execution_count": 62,
     "metadata": {},
     "output_type": "execute_result"
    }
   ],
   "source": [
    "np.shape(mat1)"
   ]
  },
  {
   "cell_type": "code",
   "execution_count": 63,
   "id": "a486f7b3-ddb3-443b-bc76-6c01f155c8d1",
   "metadata": {},
   "outputs": [
    {
     "data": {
      "text/plain": [
       "9"
      ]
     },
     "execution_count": 63,
     "metadata": {},
     "output_type": "execute_result"
    }
   ],
   "source": [
    "np.size(mat1)"
   ]
  },
  {
   "cell_type": "code",
   "execution_count": 64,
   "id": "4e6f8243-cba4-48cd-b512-9fb5000379f9",
   "metadata": {},
   "outputs": [],
   "source": [
    "#Question6:\n",
    "#Answer:\n",
    "identity_matrix = np.eye(5)"
   ]
  },
  {
   "cell_type": "code",
   "execution_count": 65,
   "id": "ce06e5d2-e48c-4f53-86f3-fcebd2d14385",
   "metadata": {},
   "outputs": [
    {
     "data": {
      "text/plain": [
       "array([[1., 0., 0., 0., 0.],\n",
       "       [0., 1., 0., 0., 0.],\n",
       "       [0., 0., 1., 0., 0.],\n",
       "       [0., 0., 0., 1., 0.],\n",
       "       [0., 0., 0., 0., 1.]])"
      ]
     },
     "execution_count": 65,
     "metadata": {},
     "output_type": "execute_result"
    }
   ],
   "source": [
    "identity_matrix"
   ]
  },
  {
   "cell_type": "code",
   "execution_count": null,
   "id": "e6b2eb8f-1696-4802-9dc1-3f5566727797",
   "metadata": {},
   "outputs": [],
   "source": []
  }
 ],
 "metadata": {
  "kernelspec": {
   "display_name": "Python 3 (ipykernel)",
   "language": "python",
   "name": "python3"
  },
  "language_info": {
   "codemirror_mode": {
    "name": "ipython",
    "version": 3
   },
   "file_extension": ".py",
   "mimetype": "text/x-python",
   "name": "python",
   "nbconvert_exporter": "python",
   "pygments_lexer": "ipython3",
   "version": "3.10.6"
  }
 },
 "nbformat": 4,
 "nbformat_minor": 5
}
